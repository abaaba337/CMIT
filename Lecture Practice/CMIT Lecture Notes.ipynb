{
 "cells": [
  {
   "cell_type": "code",
   "execution_count": 1,
   "id": "d218e683",
   "metadata": {},
   "outputs": [],
   "source": [
    "from math import * \n",
    "import numpy as np\n",
    "import matplotlib as plt\n",
    "import cv2\n",
    "%matplotlib inline"
   ]
  },
  {
   "cell_type": "markdown",
   "id": "feb211e2",
   "metadata": {},
   "source": [
    "# OpenCV"
   ]
  },
  {
   "cell_type": "markdown",
   "id": "2d6b50ad",
   "metadata": {},
   "source": [
    "## 计算机眼中的图像：计算机视觉"
   ]
  },
  {
   "cell_type": "markdown",
   "id": "d7cbf3fa",
   "metadata": {},
   "source": [
    "**Def 1.1.1 RGB颜色通道与RGB值** 一张**彩色图片**通常是由很多微小的彩色像素 **(pixels)** 组成的，这些像素的颜色又由一个三元数组 **(R,G,B)** 决定。其中R,G,B分别代表红，绿，蓝的三原色通道 **(channels)**；数组 **(R,G,B)** 的值代表在对应颜色通道上的亮度，取值范围 **0 ~ 255**，越大的值代表**越高的亮度**。一般我们用**三张同样大小的矩阵**来代表一张彩色图片，如下图所示；特别的，一张黑白图片**(灰度图)**只有一条颜色通道。"
   ]
  },
  {
   "cell_type": "markdown",
   "id": "4add9bf4",
   "metadata": {},
   "source": [
    "<div align=\"center\">\n",
    "<img src=https://pic4.zhimg.com/80/v2-94eda292fdc88e4aa34b351d4b1be963_720w.webp width=60% height=60%/>\n",
    "</div>"
   ]
  },
  {
   "cell_type": "markdown",
   "id": "7b796625",
   "metadata": {},
   "source": [
    "## OpenCV库 (cv2)"
   ]
  },
  {
   "cell_type": "markdown",
   "id": "1ebb2250",
   "metadata": {},
   "source": [
    "OpenCV的全称是 **Open Source Computer Vision Library**，是一个跨平台的计算机视觉库，可以在商业和研究领域中免费使用。OpenCV可用于开发实时的图像处理、计算机视觉以及模式识别程序。在Python中使用OpenCV，首先导入**cv2**库。"
   ]
  },
  {
   "cell_type": "code",
   "execution_count": 2,
   "id": "a8c40836",
   "metadata": {
    "code_folding": []
   },
   "outputs": [],
   "source": [
    "import cv2"
   ]
  },
  {
   "cell_type": "markdown",
   "id": "6b1e8ab3",
   "metadata": {},
   "source": [
    "### 图像读取与输出"
   ]
  },
  {
   "cell_type": "code",
   "execution_count": 25,
   "id": "ef289b10",
   "metadata": {},
   "outputs": [],
   "source": [
    "# 读取图片\n",
    "img = cv2.imread('./Notes_OpenCV/Lenna.png') # 以3DArray的形式返回图片的BGR矩阵\n",
    "B = img[:,:,0] # B\n",
    "G = img[:,:,1] # G\n",
    "R = img[:,:,2] # R \n",
    "\n",
    "# 等价操作\n",
    "B, G, R = cv2.split(img)\n",
    "\n",
    "# 逆向操作\n",
    "img_merge = cv2.merge((B,G,R)) # 注意(B,G,R)外有括号\n",
    "\n",
    "# 生成图像副本\n",
    "img_copy = img.copy() # 实际上是numpy中array的复制"
   ]
  },
  {
   "cell_type": "markdown",
   "id": "b3152158",
   "metadata": {},
   "source": [
    "注意此处，**cv2.imread(filename, flags=None)** 返回的是 <span style=\"color: red;\">**(B,G,R)**</span> 而不是 **(R,G,B)**。此外，我们还可以通过参数 **flags** 设定读入图片的格式：   \n",
    "**cv2.IMREAD_COLOR**    ：读入一副彩色图像。图像的透明度会被忽略，这是默认参数    \n",
    "**cv2.IMREAD_GRAYSCALE**：以灰度模式读入图像，此时仅返回一个矩阵   \n",
    "**cv2.IMREAD_UNCHANGED**：保留读取图片原有的颜色通道     "
   ]
  },
  {
   "cell_type": "code",
   "execution_count": 62,
   "id": "890da5a8",
   "metadata": {},
   "outputs": [],
   "source": [
    "# 显示图片\n",
    "def cv_show(name, img, wait_time=5000):\n",
    "    cv2.imshow(name, img)   # 在窗口中显示图像，窗口名称为 name (str)，这里可以通过imutils模块改变图像显示大小\n",
    "    cv2.waitKey(wait_time)  # 窗口显示时间，毫秒级；wait_time = 0 表示按任意键关闭窗口，不主动关闭\n",
    "    cv2.destroyAllWindows() # 关闭时同时关闭所有窗口\n",
    "    return\n",
    "    \n",
    "cv_show('Lenna', img)   "
   ]
  },
  {
   "cell_type": "markdown",
   "id": "97b7e3ce",
   "metadata": {},
   "source": [
    "**cv2.imshow(name, img)**   中的参数二**img**为图像对象，类型是numpy中的ndarray类型   \n",
    "**cv2.waitKey(wait_time)**  中的参数取 **wait_time = 0** 表示按任意键关闭窗口，不主动关闭，它必须接在 **cv2.imshow** 后面\n",
    "**cv2.destroyAllWindows()** 指定关闭窗口的操作必须接在 **cv2.waitKey** 后面  \n",
    "     \n",
    "实际上，**cv2.waitKey(wait_time)** 的本质是表示<span style=\"color: red;\">**暂停程序，在wait_time期间等待一个按键输入**</span>，如果超出预期时间，则跳过该行代码继续运行；**wait_time = 0** 实际表示**无限期暂停程序直至接收到按键输入**。同时，**cv2.waitKey(wait_time)** 也有返回值，如果在规定时间内接收到按键输入，则返回值为输入按键的**ASCII码**，否则返回**-1**，见下方代码："
   ]
  },
  {
   "cell_type": "code",
   "execution_count": 61,
   "id": "81c85bf8",
   "metadata": {},
   "outputs": [
    {
     "data": {
      "text/plain": [
       "27"
      ]
     },
     "execution_count": 61,
     "metadata": {},
     "output_type": "execute_result"
    }
   ],
   "source": [
    "def cv_show(name, img, wait_time=5000):\n",
    "    cv2.imshow(name, img)  \n",
    "    inputKey = cv2.waitKey(wait_time)  # 输出在在wait_time期间接收到的按键输入\n",
    "    cv2.destroyAllWindows() \n",
    "    return inputKey                    # 输出在在wait_time期间接收到的按键输入\n",
    "    \n",
    "cv_show('Lenna', img)                  "
   ]
  },
  {
   "cell_type": "markdown",
   "id": "2a94c061",
   "metadata": {},
   "source": [
    "在上述代码块图片展示期间，按ESC键退出，所以返回值为27（ESC键对应的ASCII码）。"
   ]
  },
  {
   "cell_type": "code",
   "execution_count": 11,
   "id": "2ba843dc",
   "metadata": {},
   "outputs": [
    {
     "data": {
      "text/plain": [
       "True"
      ]
     },
     "execution_count": 11,
     "metadata": {},
     "output_type": "execute_result"
    }
   ],
   "source": [
    "# 保存图片\n",
    "imgGray = cv2.imread('./Notes_OpenCV/Lenna.png', cv2.IMREAD_GRAYSCALE)\n",
    "cv2.imwrite('./Notes_OpenCV/Lenna_Gray.png', imgGray)"
   ]
  },
  {
   "cell_type": "markdown",
   "id": "3018fb2c",
   "metadata": {},
   "source": [
    "### 视频的读取与输出"
   ]
  },
  {
   "cell_type": "markdown",
   "id": "f4f0c588",
   "metadata": {},
   "source": [
    "视频的实际上是有多张静态图片，即 **帧 (frame)** 组合而成，读取视频相当于读取一条图片序列"
   ]
  },
  {
   "cell_type": "code",
   "execution_count": 6,
   "id": "82a4077f",
   "metadata": {
    "code_folding": []
   },
   "outputs": [
    {
     "data": {
      "text/plain": [
       "True"
      ]
     },
     "execution_count": 6,
     "metadata": {},
     "output_type": "execute_result"
    }
   ],
   "source": [
    "# 读取视频\n",
    "videoCap = cv2.VideoCapture('./Notes_OpenCV/Ocean.mp4') # 初始化读取视频（摄像头）\n",
    "videoCap.isOpened()                                     # 检查初始化摄像头是否成功，否则下面的代码都会报错"
   ]
  },
  {
   "cell_type": "markdown",
   "id": "74897113",
   "metadata": {},
   "source": [
    "**videoCap.isOpened()** 会返回一个布尔值，判断当前的摄像头是否初始化成功，如果摄像头初始化失败，我们可以使用 **videoCap.open()** 函数来打开摄像头。我们将读取视频的整个过程封装成如下函数"
   ]
  },
  {
   "cell_type": "code",
   "execution_count": 7,
   "id": "5c2dba4c",
   "metadata": {
    "code_folding": []
   },
   "outputs": [],
   "source": [
    "def read_video(video_path):  \n",
    "    frames = []                             # 用于保存读取的帧\n",
    "    videoCap = cv2.VideoCapture(video_path) # 初始化读取视频（摄像头）\n",
    "    isOpen = videoCap.isOpened()            # 检查初始化摄像头是否成功，否则下面的代码都会报错\n",
    "    \n",
    "    while isOpen:\n",
    "        isOpen , frame = videoCap.read()    # 读取下一帧\n",
    "        if isOpen:\n",
    "            frames.append(frame)            # 添加该帧\n",
    "        \n",
    "    videoCap.release()                      # 关闭视频文件或相机设备\n",
    "    return frames"
   ]
  },
  {
   "cell_type": "markdown",
   "id": "57f4ca61",
   "metadata": {},
   "source": [
    "**videoCap = cv2.VideoCapture(video_path)** -- 初始化所读取的视频     \n",
    "**videoCap.isOpened()** -- 返回一个布尔值，判断当前的视频是否初始化成功    \n",
    "**videoCap.read()** -- 返回一个布尔值 **isOpen** 表示帧是否被正确读取,可以通过检查这个返回值来判断视频是否结束；一个被读取帧的BGRarray **frame**     \n",
    "**videoCap.release()** -- 用于关闭视频文件或相机设备，常用于结束对视频的操作时"
   ]
  },
  {
   "cell_type": "code",
   "execution_count": 8,
   "id": "494e196b",
   "metadata": {
    "code_folding": []
   },
   "outputs": [],
   "source": [
    "# 显示视频\n",
    "def frames_show(name, frames, wait_time=100):\n",
    "    for frame in frames:\n",
    "        cv2.imshow(name, frame)\n",
    "        inputKey = cv2.waitKey(wait_time)\n",
    "        if  inputKey == 27 :\n",
    "            break\n",
    "    cv2.destroyAllWindows() \n",
    "    return"
   ]
  },
  {
   "cell_type": "code",
   "execution_count": 16,
   "id": "27b8fe93",
   "metadata": {},
   "outputs": [],
   "source": [
    "# 将所有帧转为灰度图\n",
    "frames = read_video('./Notes_OpenCV/Ocean.mp4')\n",
    "Grayframes = [cv2.cvtColor(frame, cv2.COLOR_BGR2GRAY) for frame in frames] # cv2.cvtColor()可以实现图片的各种转换\n",
    "\n",
    "# 尝试调节不同的wait_time以实现视频的加减速\n",
    "frames_show('Ocean_Gray_wait_time_10', Grayframes, wait_time=10)\n",
    "frames_show('Ocean_Gray_wait_time_50', Grayframes, wait_time=50)"
   ]
  },
  {
   "cell_type": "markdown",
   "id": "ad3617fd",
   "metadata": {},
   "source": [
    "为了方便视频的保存，通常将读取帧和显示帧的操作置于同一循环下。"
   ]
  }
 ],
 "metadata": {
  "kernelspec": {
   "display_name": "Python 3 (ipykernel)",
   "language": "python",
   "name": "python3"
  },
  "language_info": {
   "codemirror_mode": {
    "name": "ipython",
    "version": 3
   },
   "file_extension": ".py",
   "mimetype": "text/x-python",
   "name": "python",
   "nbconvert_exporter": "python",
   "pygments_lexer": "ipython3",
   "version": "3.9.12"
  },
  "latex_envs": {
   "LaTeX_envs_menu_present": true,
   "autoclose": false,
   "autocomplete": true,
   "bibliofile": "biblio.bib",
   "cite_by": "apalike",
   "current_citInitial": 1,
   "eqLabelWithNumbers": true,
   "eqNumInitial": 1,
   "hotkeys": {
    "equation": "Ctrl-E",
    "itemize": "Ctrl-I"
   },
   "labels_anchors": false,
   "latex_user_defs": false,
   "report_style_numbering": false,
   "user_envs_cfg": false
  },
  "toc": {
   "base_numbering": 1,
   "nav_menu": {},
   "number_sections": true,
   "sideBar": true,
   "skip_h1_title": false,
   "title_cell": "Table of Contents",
   "title_sidebar": "Contents",
   "toc_cell": false,
   "toc_position": {
    "height": "calc(100% - 180px)",
    "left": "10px",
    "top": "150px",
    "width": "332.594px"
   },
   "toc_section_display": true,
   "toc_window_display": true
  }
 },
 "nbformat": 4,
 "nbformat_minor": 5
}
