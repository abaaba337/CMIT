{
 "cells": [
  {
   "cell_type": "code",
   "execution_count": 2,
   "id": "4870fce4",
   "metadata": {},
   "outputs": [],
   "source": [
    "import math  as mth\n",
    "import numpy as np\n",
    "import matplotlib.pyplot as plt"
   ]
  },
  {
   "cell_type": "markdown",
   "id": "70289f5b",
   "metadata": {},
   "source": [
    "# Exercise 01"
   ]
  },
  {
   "cell_type": "markdown",
   "id": "976f2152",
   "metadata": {},
   "source": [
    "## Fibonacci Series"
   ]
  },
  {
   "cell_type": "code",
   "execution_count": 5,
   "id": "aff84e2c",
   "metadata": {},
   "outputs": [
    {
     "name": "stdout",
     "output_type": "stream",
     "text": [
      "[1, 1, 2, 3, 5, 8, 13, 21, 34, 55, 89, 144, 233, 377, 610, 987, 1597, 2584, 4181, 6765]\n",
      "[1, 0.5, 0.6666666666666666, 0.6, 0.625, 0.6153846153846154, 0.6190476190476191, 0.6176470588235294, 0.6181818181818182, 0.6179775280898876, 0.6180555555555556, 0.6180257510729614, 0.6180371352785146, 0.6180327868852459, 0.6180344478216818, 0.6180338134001252, 0.6180340557275542, 0.6180339631667066, 0.6180339985218034]\n"
     ]
    }
   ],
   "source": [
    "# Fibonacci Series\n",
    "fibSer , ratioSer = [1,1] , [1]\n",
    "\n",
    "for i in range(2,20):\n",
    "    an = fibSer[i-1] + fibSer[i-2]\n",
    "    ratio = fibSer[i-1] / an\n",
    "    fibSer.append(an)\n",
    "    ratioSer.append(ratio)\n",
    "    \n",
    "print(fibSer)\n",
    "print(ratioSer) # The ratio converge to the golden ratio"
   ]
  },
  {
   "cell_type": "markdown",
   "id": "24a3748b",
   "metadata": {},
   "source": [
    "## Elliptic integral"
   ]
  },
  {
   "cell_type": "code",
   "execution_count": 6,
   "id": "596d597f",
   "metadata": {
    "code_folding": []
   },
   "outputs": [
    {
     "data": {
      "image/png": "[encoded data removed]",
      "text/plain": [
       "<Figure size 360x360 with 1 Axes>"
      ]
     },
     "metadata": {
      "needs_background": "light"
     },
     "output_type": "display_data"
    }
   ],
   "source": [
    "# Elliptic integral\n",
    "def F(theta, k):\n",
    "    x = (k*np.sin(theta))**2\n",
    "    y = (1-x)**(-0.5) \n",
    "    return y\n",
    "\n",
    "def K(k):\n",
    "# Trapezium Method for integral\n",
    "    theta   = np.linspace(0, np.pi/2, num=500)\n",
    "    dtheta  = theta[1] - theta[0]\n",
    "    F_value = F(theta, k)\n",
    "    I = ( F_value.sum() - (F_value[0] + F_value[-1])/2 ) * dtheta \n",
    "    return I\n",
    "\n",
    "# Calculate K(k) for k from 0 to 0.999, plot K(k) and save as a txt file\n",
    "ks = np.linspace(0, 0.999, num=100)\n",
    "Ks = [K(k) for k in ks]\n",
    "\n",
    "# Plot\n",
    "fig = plt.figure( figsize = (5,5) );\n",
    "plt.plot(ks,Ks);\n",
    "plt.xlabel('k'); \n",
    "plt.ylabel('K(k)');\n",
    "plt.grid( visible = True );\n",
    "fig.savefig('./Exercise01_EllipticIntegral.jpg', bbox_inches = 'tight')\n",
    "\n",
    "# Save txt\n",
    "f = open(\"./Exercise01_EllipticIntegral_writefiles.txt\",\"w\")\n",
    "for i in range(len(ks)):\n",
    "    writtenStr = '\\tk = %.6f\\tK(k) = %.6f\\n'%(ks[i],Ks[i])\n",
    "    f.write(writtenStr)\n",
    "f.close()"
   ]
  },
  {
   "cell_type": "markdown",
   "id": "30ce573d",
   "metadata": {},
   "source": [
    "## Matrix similarity"
   ]
  },
  {
   "cell_type": "code",
   "execution_count": 71,
   "id": "50ad7d74",
   "metadata": {},
   "outputs": [],
   "source": [
    "from numpy import linalg as LA"
   ]
  },
  {
   "cell_type": "code",
   "execution_count": 69,
   "id": "b25caa9a",
   "metadata": {},
   "outputs": [],
   "source": [
    "def similar(A,B):\n",
    "# Check whether two matrices A and B are similar\n",
    "    eigVal_A , _ = LA.eig(A)\n",
    "    eigVal_B , _ = LA.eig(B)\n",
    "    eigVal_A , eigVal_B = np.sort(eigVal_A) , np.sort(eigVal_B) # Sort eigenvalues\n",
    "    \n",
    "    if len(eigVal_A) != len(eigVal_B):\n",
    "        return False\n",
    "    else:\n",
    "        return np.all( eigVal_A == eigVal_B )"
   ]
  },
  {
   "cell_type": "code",
   "execution_count": 93,
   "id": "cc53fe33",
   "metadata": {},
   "outputs": [
    {
     "name": "stdout",
     "output_type": "stream",
     "text": [
      "False\n"
     ]
    }
   ],
   "source": [
    "A = np.array([[0,1],[5,3]])\n",
    "B = np.array([[1,2],[4,3]])\n",
    "print(similar(A,B))"
   ]
  },
  {
   "cell_type": "code",
   "execution_count": 82,
   "id": "c32948bc",
   "metadata": {},
   "outputs": [
    {
     "name": "stdout",
     "output_type": "stream",
     "text": [
      "True\n"
     ]
    }
   ],
   "source": [
    "C = np.array([[1,2],[-1,4]])\n",
    "D = np.array([[-1,6],[-2,6]])\n",
    "print(similar(C,D))"
   ]
  }
 ],
 "metadata": {
  "kernelspec": {
   "display_name": "Python 3 (ipykernel)",
   "language": "python",
   "name": "python3"
  },
  "language_info": {
   "codemirror_mode": {
    "name": "ipython",
    "version": 3
   },
   "file_extension": ".py",
   "mimetype": "text/x-python",
   "name": "python",
   "nbconvert_exporter": "python",
   "pygments_lexer": "ipython3",
   "version": "3.9.12"
  },
  "latex_envs": {
   "LaTeX_envs_menu_present": true,
   "autoclose": false,
   "autocomplete": true,
   "bibliofile": "biblio.bib",
   "cite_by": "apalike",
   "current_citInitial": 1,
   "eqLabelWithNumbers": true,
   "eqNumInitial": 1,
   "hotkeys": {
    "equation": "Ctrl-E",
    "itemize": "Ctrl-I"
   },
   "labels_anchors": false,
   "latex_user_defs": false,
   "report_style_numbering": false,
   "user_envs_cfg": false
  },
  "toc": {
   "base_numbering": 1,
   "nav_menu": {},
   "number_sections": true,
   "sideBar": true,
   "skip_h1_title": false,
   "title_cell": "Table of Contents",
   "title_sidebar": "Contents",
   "toc_cell": false,
   "toc_position": {},
   "toc_section_display": true,
   "toc_window_display": false
  }
 },
 "nbformat": 4,
 "nbformat_minor": 5
}
