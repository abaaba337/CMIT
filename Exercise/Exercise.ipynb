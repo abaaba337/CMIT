{
 "cells": [
  {
   "cell_type": "code",
   "execution_count": 1,
   "id": "4870fce4",
   "metadata": {},
   "outputs": [],
   "source": [
    "import math  as mth\n",
    "import numpy as np\n",
    "import matplotlib.pyplot as plt"
   ]
  },
  {
   "cell_type": "markdown",
   "id": "70289f5b",
   "metadata": {},
   "source": [
    "# Exercise 01"
   ]
  },
  {
   "cell_type": "markdown",
   "id": "976f2152",
   "metadata": {},
   "source": [
    "## Fibonacci Series"
   ]
  },
  {
   "cell_type": "code",
   "execution_count": 5,
   "id": "aff84e2c",
   "metadata": {},
   "outputs": [
    {
     "name": "stdout",
     "output_type": "stream",
     "text": [
      "[1, 1, 2, 3, 5, 8, 13, 21, 34, 55, 89, 144, 233, 377, 610, 987, 1597, 2584, 4181, 6765]\n",
      "[1, 0.5, 0.6666666666666666, 0.6, 0.625, 0.6153846153846154, 0.6190476190476191, 0.6176470588235294, 0.6181818181818182, 0.6179775280898876, 0.6180555555555556, 0.6180257510729614, 0.6180371352785146, 0.6180327868852459, 0.6180344478216818, 0.6180338134001252, 0.6180340557275542, 0.6180339631667066, 0.6180339985218034]\n"
     ]
    }
   ],
   "source": [
    "# Fibonacci Series\n",
    "fibSer , ratioSer = [1,1] , [1]\n",
    "\n",
    "for i in range(2,20):\n",
    "    an = fibSer[i-1] + fibSer[i-2]\n",
    "    ratio = fibSer[i-1] / an\n",
    "    fibSer.append(an)\n",
    "    ratioSer.append(ratio)\n",
    "    \n",
    "print(fibSer)\n",
    "print(ratioSer) # The ratio converge to the golden ratio"
   ]
  },
  {
   "cell_type": "markdown",
   "id": "24a3748b",
   "metadata": {},
   "source": [
    "## Elliptic integral"
   ]
  },
  {
   "cell_type": "code",
   "execution_count": 6,
   "id": "596d597f",
   "metadata": {
    "code_folding": []
   },
   "outputs": [
    {
     "data": {
      "image/png": "[encoded data removed]",
      "text/plain": [
       "<Figure size 360x360 with 1 Axes>"
      ]
     },
     "metadata": {
      "needs_background": "light"
     },
     "output_type": "display_data"
    }
   ],
   "source": [
    "# Elliptic integral\n",
    "def F(theta, k):\n",
    "    x = (k*np.sin(theta))**2\n",
    "    y = (1-x)**(-0.5) \n",
    "    return y\n",
    "\n",
    "def K(k):\n",
    "# Trapezium Method for integral\n",
    "    theta   = np.linspace(0, np.pi/2, num=500)\n",
    "    dtheta  = theta[1] - theta[0]\n",
    "    F_value = F(theta, k)\n",
    "    I = ( F_value.sum() - (F_value[0] + F_value[-1])/2 ) * dtheta \n",
    "    return I\n",
    "\n",
    "# Calculate K(k) for k from 0 to 0.999, plot K(k) and save as a txt file\n",
    "ks = np.linspace(0, 0.999, num=100)\n",
    "Ks = [K(k) for k in ks]\n",
    "\n",
    "# Plot\n",
    "fig = plt.figure( figsize = (5,5) );\n",
    "plt.plot(ks,Ks);\n",
    "plt.xlabel('k'); \n",
    "plt.ylabel('K(k)');\n",
    "plt.grid( visible = True );\n",
    "fig.savefig('./Exercise01_EllipticIntegral.jpg', bbox_inches = 'tight')\n",
    "\n",
    "# Save txt\n",
    "f = open(\"./Exercise01_EllipticIntegral_writefiles.txt\",\"w\")\n",
    "for i in range(len(ks)):\n",
    "    writtenStr = '\\tk = %.6f\\tK(k) = %.6f\\n'%(ks[i],Ks[i])\n",
    "    f.write(writtenStr)\n",
    "f.close()"
   ]
  },
  {
   "cell_type": "markdown",
   "id": "30ce573d",
   "metadata": {},
   "source": [
    "## Matrix similarity"
   ]
  },
  {
   "cell_type": "code",
   "execution_count": 71,
   "id": "50ad7d74",
   "metadata": {},
   "outputs": [],
   "source": [
    "from numpy import linalg as LA"
   ]
  },
  {
   "cell_type": "code",
   "execution_count": 69,
   "id": "b25caa9a",
   "metadata": {},
   "outputs": [],
   "source": [
    "def similar(A,B):\n",
    "# Check whether two matrices A and B are similar\n",
    "    eigVal_A , _ = LA.eig(A)\n",
    "    eigVal_B , _ = LA.eig(B)\n",
    "    eigVal_A , eigVal_B = np.sort(eigVal_A) , np.sort(eigVal_B) # Sort eigenvalues\n",
    "    \n",
    "    if len(eigVal_A) != len(eigVal_B):\n",
    "        return False\n",
    "    else:\n",
    "        return np.all( eigVal_A == eigVal_B )"
   ]
  },
  {
   "cell_type": "code",
   "execution_count": 93,
   "id": "cc53fe33",
   "metadata": {},
   "outputs": [
    {
     "name": "stdout",
     "output_type": "stream",
     "text": [
      "False\n"
     ]
    }
   ],
   "source": [
    "A = np.array([[0,1],[5,3]])\n",
    "B = np.array([[1,2],[4,3]])\n",
    "print(similar(A,B))"
   ]
  },
  {
   "cell_type": "code",
   "execution_count": 82,
   "id": "c32948bc",
   "metadata": {},
   "outputs": [
    {
     "name": "stdout",
     "output_type": "stream",
     "text": [
      "True\n"
     ]
    }
   ],
   "source": [
    "C = np.array([[1,2],[-1,4]])\n",
    "D = np.array([[-1,6],[-2,6]])\n",
    "print(similar(C,D))"
   ]
  },
  {
   "cell_type": "markdown",
   "id": "578010a5",
   "metadata": {},
   "source": [
    "# Exercise 02"
   ]
  },
  {
   "cell_type": "markdown",
   "id": "dfe66c2b",
   "metadata": {},
   "source": [
    "## Reverse of List"
   ]
  },
  {
   "cell_type": "code",
   "execution_count": 42,
   "id": "ce061960",
   "metadata": {},
   "outputs": [
    {
     "name": "stdout",
     "output_type": "stream",
     "text": [
      "[0.43714326 0.36338016 0.67461556 0.62290222 0.58591208 0.45281758\n",
      " 0.25664246 0.01770572 0.98466782 0.26108539]\n",
      "[0.26108539 0.98466782 0.01770572 0.25664246 0.45281758 0.58591208\n",
      " 0.62290222 0.67461556 0.36338016 0.43714326]\n",
      "True\n"
     ]
    }
   ],
   "source": [
    "# Random digits: list and reversed list\n",
    "randlst = np.random.rand(10)\n",
    "print(randlst)\n",
    "\n",
    "randlst_reverse = randlst[::-1]\n",
    "print(randlst_reverse)\n",
    "\n",
    "# Reverse of string\n",
    "Str = 'tacocat'\n",
    "Str_reverse = Str[::-1]\n",
    "print( Str == Str_reverse )"
   ]
  },
  {
   "cell_type": "code",
   "execution_count": 43,
   "id": "cef34b49",
   "metadata": {},
   "outputs": [
    {
     "name": "stdout",
     "output_type": "stream",
     "text": [
      "[('Student5', 91.0), ('Student12', 91.0), ('Student14', 91.0), ('Student22', 91.0), ('Student25', 91.0), ('Student27', 91.0), ('Student33', 91.0), ('Student82', 91.0), ('Student86', 91.0), ('Student92', 91.0), ('Student94', 91.0), ('Student18', 81.9), ('Student46', 81.9), ('Student47', 81.9), ('Student48', 81.9), ('Student51', 81.9), ('Student55', 81.9), ('Student57', 81.9), ('Student59', 81.9), ('Student74', 81.9), ('Student113', 81.9), ('Student120', 81.9), ('Student121', 81.9), ('Student2', 72.8), ('Student7', 72.8), ('Student15', 72.8), ('Student39', 72.8), ('Student42', 72.8), ('Student43', 72.8), ('Student53', 72.8), ('Student54', 72.8), ('Student104', 72.8), ('Student107', 72.8), ('Student122', 72.8), ('Student123', 72.8), ('Student16', 63.7), ('Student23', 63.7), ('Student24', 63.7), ('Student34', 63.7), ('Student36', 63.7), ('Student45', 63.7), ('Student58', 63.7), ('Student62', 63.7), ('Student80', 63.7), ('Student106', 63.7), ('Student111', 63.7), ('Student1', 54.6), ('Student13', 54.6), ('Student17', 54.6), ('Student28', 54.6), ('Student29', 54.6), ('Student35', 54.6), ('Student64', 54.6), ('Student69', 54.6), ('Student75', 54.6), ('Student76', 54.6), ('Student81', 54.6), ('Student83', 54.6), ('Student85', 54.6), ('Student95', 54.6), ('Student110', 54.6), ('Student114', 54.6), ('Student19', 45.5), ('Student20', 45.5), ('Student31', 45.5), ('Student38', 45.5), ('Student56', 45.5), ('Student61', 45.5), ('Student67', 45.5), ('Student70', 45.5), ('Student78', 45.5), ('Student90', 45.5), ('Student10', 36.4), ('Student21', 36.4), ('Student26', 36.4), ('Student77', 36.4), ('Student102', 36.4), ('Student118', 36.4), ('Student30', 27.3), ('Student32', 27.3), ('Student52', 27.3), ('Student87', 27.3), ('Student89', 27.3), ('Student96', 27.3), ('Student100', 27.3), ('Student103', 27.3), ('Student105', 27.3), ('Student116', 27.3), ('Student6', 18.2), ('Student8', 18.2), ('Student9', 18.2), ('Student37', 18.2), ('Student41', 18.2), ('Student50', 18.2), ('Student65', 18.2), ('Student71', 18.2), ('Student73', 18.2), ('Student91', 18.2), ('Student11', 9.1), ('Student40', 9.1), ('Student72', 9.1), ('Student88', 9.1), ('Student97', 9.1), ('Student99', 9.1), ('Student101', 9.1), ('Student112', 9.1), ('Student115', 9.1), ('Student3', 0.0), ('Student4', 0.0), ('Student44', 0.0), ('Student49', 0.0), ('Student60', 0.0), ('Student63', 0.0), ('Student66', 0.0), ('Student68', 0.0), ('Student79', 0.0), ('Student84', 0.0), ('Student93', 0.0), ('Student98', 0.0), ('Student108', 0.0), ('Student109', 0.0), ('Student117', 0.0), ('Student119', 0.0)]\n",
      "\n",
      "Student5, Final Grade 91.0\n",
      "Student12, Final Grade 91.0\n",
      "Student14, Final Grade 91.0\n",
      "Student22, Final Grade 91.0\n",
      "Student25, Final Grade 91.0\n",
      "Student27, Final Grade 91.0\n",
      "Student33, Final Grade 91.0\n",
      "Student82, Final Grade 91.0\n",
      "Student86, Final Grade 91.0\n",
      "Student92, Final Grade 91.0\n",
      "Student94, Final Grade 91.0\n",
      "Student18, Final Grade 81.9\n",
      "Student46, Final Grade 81.9\n",
      "Student47, Final Grade 81.9\n",
      "Student48, Final Grade 81.9\n",
      "Student51, Final Grade 81.9\n",
      "Student55, Final Grade 81.9\n",
      "Student57, Final Grade 81.9\n",
      "Student59, Final Grade 81.9\n",
      "Student74, Final Grade 81.9\n",
      "Student113, Final Grade 81.9\n",
      "Student120, Final Grade 81.9\n",
      "Student121, Final Grade 81.9\n",
      "Student2, Final Grade 72.8\n",
      "Student7, Final Grade 72.8\n",
      "Student15, Final Grade 72.8\n",
      "Student39, Final Grade 72.8\n",
      "Student42, Final Grade 72.8\n",
      "Student43, Final Grade 72.8\n",
      "Student53, Final Grade 72.8\n",
      "Student54, Final Grade 72.8\n",
      "Student104, Final Grade 72.8\n",
      "Student107, Final Grade 72.8\n",
      "Student122, Final Grade 72.8\n",
      "Student123, Final Grade 72.8\n",
      "Student16, Final Grade 63.7\n",
      "Student23, Final Grade 63.7\n",
      "Student24, Final Grade 63.7\n",
      "Student34, Final Grade 63.7\n",
      "Student36, Final Grade 63.7\n",
      "Student45, Final Grade 63.7\n",
      "Student58, Final Grade 63.7\n",
      "Student62, Final Grade 63.7\n",
      "Student80, Final Grade 63.7\n",
      "Student106, Final Grade 63.7\n",
      "Student111, Final Grade 63.7\n",
      "Student1, Final Grade 54.6\n",
      "Student13, Final Grade 54.6\n",
      "Student17, Final Grade 54.6\n",
      "Student28, Final Grade 54.6\n",
      "Student29, Final Grade 54.6\n",
      "Student35, Final Grade 54.6\n",
      "Student64, Final Grade 54.6\n",
      "Student69, Final Grade 54.6\n",
      "Student75, Final Grade 54.6\n",
      "Student76, Final Grade 54.6\n",
      "Student81, Final Grade 54.6\n",
      "Student83, Final Grade 54.6\n",
      "Student85, Final Grade 54.6\n",
      "Student95, Final Grade 54.6\n",
      "Student110, Final Grade 54.6\n",
      "Student114, Final Grade 54.6\n"
     ]
    }
   ],
   "source": [
    "# Sort reversely\n",
    "f = open(\"Exercise02_GradeBook.txt\",\"r\")\n",
    "Alpha = list(\"abcdefghijklmnopqrstuvwxyzABCDEFGHIJKLMNOPQRSTUVWXY\")\n",
    "FinalGrade = {}\n",
    "\n",
    "for line in f:\n",
    "    \n",
    "    line = line.replace(\"\\n\",\"\").split(\",\")\n",
    "    \n",
    "    # If the grade starts with letters, drop it\n",
    "    if line[1][0] in Alpha:\n",
    "        continue\n",
    "        \n",
    "    FinalGrade.update( { line[0] : int(line[1])*0.1 + int(line[2])*0.9 } )\n",
    "    \n",
    "f.close()\n",
    "\n",
    "# Print the list of tuples for the final grades\n",
    "FinalGrade_descending = sorted(FinalGrade.items(), key = lambda x: x[1], reverse = True)\n",
    "print(FinalGrade_descending, end = '\\n\\n')\n",
    "\n",
    "# Print the highest 5 students' number\n",
    "rank = 0\n",
    "current_grade = 0\n",
    "\n",
    "for grade in FinalGrade_descending:\n",
    "          \n",
    "    if grade[1] != current_grade:\n",
    "        rank += 1\n",
    "        current_grade = grade[1]\n",
    "        \n",
    "    if rank >= 6:\n",
    "        break\n",
    "    else:\n",
    "        print(grade[0] + \", Final Grade %.1f\"%grade[1])  "
   ]
  },
  {
   "cell_type": "markdown",
   "id": "34a641f6",
   "metadata": {},
   "source": [
    "## Translation from Imread to Matplotlib"
   ]
  },
  {
   "cell_type": "code",
   "execution_count": 44,
   "id": "0847af53",
   "metadata": {},
   "outputs": [
    {
     "data": {
      "image/png": "[encoded data removed]",
      "text/plain": [
       "<Figure size 432x288 with 2 Axes>"
      ]
     },
     "metadata": {
      "needs_background": "light"
     },
     "output_type": "display_data"
    }
   ],
   "source": [
    "import cv2\n",
    "img = cv2.imread('Exercise02_France.png', cv2.IMREAD_COLOR)\n",
    "\n",
    "plt.subplot(121) # Plot before reversion\n",
    "plt.imshow(img);\n",
    "plt.subplot(122) # Plot after reversion\n",
    "plt.imshow(cv2.cvtColor(img, cv2.COLOR_BGR2RGB));"
   ]
  },
  {
   "cell_type": "code",
   "execution_count": 49,
   "id": "3e9e18a1",
   "metadata": {},
   "outputs": [
    {
     "data": {
      "image/png": "[encoded data removed]",
      "text/plain": [
       "<Figure size 432x288 with 1 Axes>"
      ]
     },
     "metadata": {
      "needs_background": "light"
     },
     "output_type": "display_data"
    }
   ],
   "source": [
    "# Anoter way for reversion\n",
    "img_RGB = img[:,:,[2,1,0]]\n",
    "plt.imshow(img_RGB);"
   ]
  }
 ],
 "metadata": {
  "kernelspec": {
   "display_name": "Python 3 (ipykernel)",
   "language": "python",
   "name": "python3"
  },
  "language_info": {
   "codemirror_mode": {
    "name": "ipython",
    "version": 3
   },
   "file_extension": ".py",
   "mimetype": "text/x-python",
   "name": "python",
   "nbconvert_exporter": "python",
   "pygments_lexer": "ipython3",
   "version": "3.9.12"
  },
  "latex_envs": {
   "LaTeX_envs_menu_present": true,
   "autoclose": false,
   "autocomplete": true,
   "bibliofile": "biblio.bib",
   "cite_by": "apalike",
   "current_citInitial": 1,
   "eqLabelWithNumbers": true,
   "eqNumInitial": 1,
   "hotkeys": {
    "equation": "Ctrl-E",
    "itemize": "Ctrl-I"
   },
   "labels_anchors": false,
   "latex_user_defs": false,
   "report_style_numbering": false,
   "user_envs_cfg": false
  },
  "toc": {
   "base_numbering": 1,
   "nav_menu": {},
   "number_sections": true,
   "sideBar": true,
   "skip_h1_title": false,
   "title_cell": "Table of Contents",
   "title_sidebar": "Contents",
   "toc_cell": false,
   "toc_position": {},
   "toc_section_display": true,
   "toc_window_display": false
  }
 },
 "nbformat": 4,
 "nbformat_minor": 5
}
